{
 "cells": [
  {
   "cell_type": "code",
   "execution_count": 1,
   "id": "0c3d319a",
   "metadata": {},
   "outputs": [],
   "source": [
    "import numpy as np\n",
    "import pandas as pd\n",
    "import matplotlib.pyplot as plt\n",
    "import seaborn as sns\n",
    "%matplotlib inline"
   ]
  },
  {
   "cell_type": "code",
   "execution_count": 2,
   "id": "5a9c4a01",
   "metadata": {},
   "outputs": [
    {
     "data": {
      "text/html": [
       "<div>\n",
       "<style scoped>\n",
       "    .dataframe tbody tr th:only-of-type {\n",
       "        vertical-align: middle;\n",
       "    }\n",
       "\n",
       "    .dataframe tbody tr th {\n",
       "        vertical-align: top;\n",
       "    }\n",
       "\n",
       "    .dataframe thead th {\n",
       "        text-align: right;\n",
       "    }\n",
       "</style>\n",
       "<table border=\"1\" class=\"dataframe\">\n",
       "  <thead>\n",
       "    <tr style=\"text-align: right;\">\n",
       "      <th></th>\n",
       "      <th>Preg</th>\n",
       "      <th>Glucose</th>\n",
       "      <th>BP</th>\n",
       "      <th>SkinThick</th>\n",
       "      <th>Insul</th>\n",
       "      <th>BMI</th>\n",
       "      <th>DPF</th>\n",
       "      <th>Age</th>\n",
       "      <th>Diabetes</th>\n",
       "    </tr>\n",
       "  </thead>\n",
       "  <tbody>\n",
       "    <tr>\n",
       "      <th>0</th>\n",
       "      <td>6</td>\n",
       "      <td>148</td>\n",
       "      <td>72</td>\n",
       "      <td>35</td>\n",
       "      <td>0</td>\n",
       "      <td>33.6</td>\n",
       "      <td>0.627</td>\n",
       "      <td>50</td>\n",
       "      <td>1</td>\n",
       "    </tr>\n",
       "    <tr>\n",
       "      <th>1</th>\n",
       "      <td>1</td>\n",
       "      <td>85</td>\n",
       "      <td>66</td>\n",
       "      <td>29</td>\n",
       "      <td>0</td>\n",
       "      <td>26.6</td>\n",
       "      <td>0.351</td>\n",
       "      <td>31</td>\n",
       "      <td>0</td>\n",
       "    </tr>\n",
       "    <tr>\n",
       "      <th>2</th>\n",
       "      <td>8</td>\n",
       "      <td>183</td>\n",
       "      <td>64</td>\n",
       "      <td>0</td>\n",
       "      <td>0</td>\n",
       "      <td>23.3</td>\n",
       "      <td>0.672</td>\n",
       "      <td>32</td>\n",
       "      <td>1</td>\n",
       "    </tr>\n",
       "    <tr>\n",
       "      <th>3</th>\n",
       "      <td>1</td>\n",
       "      <td>89</td>\n",
       "      <td>66</td>\n",
       "      <td>23</td>\n",
       "      <td>94</td>\n",
       "      <td>28.1</td>\n",
       "      <td>0.167</td>\n",
       "      <td>21</td>\n",
       "      <td>0</td>\n",
       "    </tr>\n",
       "    <tr>\n",
       "      <th>4</th>\n",
       "      <td>0</td>\n",
       "      <td>137</td>\n",
       "      <td>40</td>\n",
       "      <td>35</td>\n",
       "      <td>168</td>\n",
       "      <td>43.1</td>\n",
       "      <td>2.288</td>\n",
       "      <td>33</td>\n",
       "      <td>1</td>\n",
       "    </tr>\n",
       "    <tr>\n",
       "      <th>...</th>\n",
       "      <td>...</td>\n",
       "      <td>...</td>\n",
       "      <td>...</td>\n",
       "      <td>...</td>\n",
       "      <td>...</td>\n",
       "      <td>...</td>\n",
       "      <td>...</td>\n",
       "      <td>...</td>\n",
       "      <td>...</td>\n",
       "    </tr>\n",
       "    <tr>\n",
       "      <th>763</th>\n",
       "      <td>10</td>\n",
       "      <td>101</td>\n",
       "      <td>76</td>\n",
       "      <td>48</td>\n",
       "      <td>180</td>\n",
       "      <td>32.9</td>\n",
       "      <td>0.171</td>\n",
       "      <td>63</td>\n",
       "      <td>0</td>\n",
       "    </tr>\n",
       "    <tr>\n",
       "      <th>764</th>\n",
       "      <td>2</td>\n",
       "      <td>122</td>\n",
       "      <td>70</td>\n",
       "      <td>27</td>\n",
       "      <td>0</td>\n",
       "      <td>36.8</td>\n",
       "      <td>0.340</td>\n",
       "      <td>27</td>\n",
       "      <td>0</td>\n",
       "    </tr>\n",
       "    <tr>\n",
       "      <th>765</th>\n",
       "      <td>5</td>\n",
       "      <td>121</td>\n",
       "      <td>72</td>\n",
       "      <td>23</td>\n",
       "      <td>112</td>\n",
       "      <td>26.2</td>\n",
       "      <td>0.245</td>\n",
       "      <td>30</td>\n",
       "      <td>0</td>\n",
       "    </tr>\n",
       "    <tr>\n",
       "      <th>766</th>\n",
       "      <td>1</td>\n",
       "      <td>126</td>\n",
       "      <td>60</td>\n",
       "      <td>0</td>\n",
       "      <td>0</td>\n",
       "      <td>30.1</td>\n",
       "      <td>0.349</td>\n",
       "      <td>47</td>\n",
       "      <td>1</td>\n",
       "    </tr>\n",
       "    <tr>\n",
       "      <th>767</th>\n",
       "      <td>1</td>\n",
       "      <td>93</td>\n",
       "      <td>70</td>\n",
       "      <td>31</td>\n",
       "      <td>0</td>\n",
       "      <td>30.4</td>\n",
       "      <td>0.315</td>\n",
       "      <td>23</td>\n",
       "      <td>0</td>\n",
       "    </tr>\n",
       "  </tbody>\n",
       "</table>\n",
       "<p>768 rows × 9 columns</p>\n",
       "</div>"
      ],
      "text/plain": [
       "     Preg  Glucose  BP  SkinThick  Insul   BMI    DPF  Age  Diabetes\n",
       "0       6      148  72         35      0  33.6  0.627   50         1\n",
       "1       1       85  66         29      0  26.6  0.351   31         0\n",
       "2       8      183  64          0      0  23.3  0.672   32         1\n",
       "3       1       89  66         23     94  28.1  0.167   21         0\n",
       "4       0      137  40         35    168  43.1  2.288   33         1\n",
       "..    ...      ...  ..        ...    ...   ...    ...  ...       ...\n",
       "763    10      101  76         48    180  32.9  0.171   63         0\n",
       "764     2      122  70         27      0  36.8  0.340   27         0\n",
       "765     5      121  72         23    112  26.2  0.245   30         0\n",
       "766     1      126  60          0      0  30.1  0.349   47         1\n",
       "767     1       93  70         31      0  30.4  0.315   23         0\n",
       "\n",
       "[768 rows x 9 columns]"
      ]
     },
     "execution_count": 2,
     "metadata": {},
     "output_type": "execute_result"
    }
   ],
   "source": [
    "#read in the data using pandas\n",
    "df = pd.read_table(\"diabetesdata.txt\")\n",
    "df"
   ]
  },
  {
   "cell_type": "markdown",
   "id": "51447dde",
   "metadata": {},
   "source": [
    "# Explain variables\n",
    "\n",
    "* Preg = Pregnancies, how many times she has been pregnant.\n",
    "* Glucose = The blood sugar level, blood sugar concentration, blood glucose level.\n",
    "* BP = Blood Pressure.\n",
    "* SkinThick = Thickness of the skin.\n",
    "* Insul = Insulin value.\n",
    "* BMI = Body mass index.\n",
    "* DPF = Diabetes pedigree function calculates diabetes likelihood depending on his/her diabetic family history.\n",
    "* Age = Age of the person.\n",
    "* Diabetes = Diabetic or undiabetic.\n"
   ]
  },
  {
   "cell_type": "code",
   "execution_count": 4,
   "id": "7c59e48a",
   "metadata": {},
   "outputs": [
    {
     "name": "stdout",
     "output_type": "stream",
     "text": [
      "<class 'pandas.core.frame.DataFrame'>\n",
      "RangeIndex: 768 entries, 0 to 767\n",
      "Data columns (total 9 columns):\n",
      " #   Column     Non-Null Count  Dtype  \n",
      "---  ------     --------------  -----  \n",
      " 0   Preg       768 non-null    int64  \n",
      " 1   Glucose    768 non-null    int64  \n",
      " 2   BP         768 non-null    int64  \n",
      " 3   SkinThick  768 non-null    int64  \n",
      " 4   Insul      768 non-null    int64  \n",
      " 5   BMI        768 non-null    float64\n",
      " 6   DPF        768 non-null    float64\n",
      " 7   Age        768 non-null    int64  \n",
      " 8   Diabetes   768 non-null    int64  \n",
      "dtypes: float64(2), int64(7)\n",
      "memory usage: 54.1 KB\n"
     ]
    }
   ],
   "source": [
    "df.info()"
   ]
  },
  {
   "cell_type": "markdown",
   "id": "698f21e6",
   "metadata": {},
   "source": [
    "**There is no missing data**"
   ]
  },
  {
   "cell_type": "code",
   "execution_count": 5,
   "id": "8ef58b79",
   "metadata": {},
   "outputs": [
    {
     "data": {
      "text/html": [
       "<div>\n",
       "<style scoped>\n",
       "    .dataframe tbody tr th:only-of-type {\n",
       "        vertical-align: middle;\n",
       "    }\n",
       "\n",
       "    .dataframe tbody tr th {\n",
       "        vertical-align: top;\n",
       "    }\n",
       "\n",
       "    .dataframe thead th {\n",
       "        text-align: right;\n",
       "    }\n",
       "</style>\n",
       "<table border=\"1\" class=\"dataframe\">\n",
       "  <thead>\n",
       "    <tr style=\"text-align: right;\">\n",
       "      <th></th>\n",
       "      <th>Preg</th>\n",
       "      <th>Glucose</th>\n",
       "      <th>BP</th>\n",
       "      <th>SkinThick</th>\n",
       "      <th>Insul</th>\n",
       "      <th>BMI</th>\n",
       "      <th>DPF</th>\n",
       "      <th>Age</th>\n",
       "    </tr>\n",
       "  </thead>\n",
       "  <tbody>\n",
       "    <tr>\n",
       "      <th>0</th>\n",
       "      <td>6</td>\n",
       "      <td>148</td>\n",
       "      <td>72</td>\n",
       "      <td>35</td>\n",
       "      <td>0</td>\n",
       "      <td>33.6</td>\n",
       "      <td>0.627</td>\n",
       "      <td>50</td>\n",
       "    </tr>\n",
       "    <tr>\n",
       "      <th>1</th>\n",
       "      <td>1</td>\n",
       "      <td>85</td>\n",
       "      <td>66</td>\n",
       "      <td>29</td>\n",
       "      <td>0</td>\n",
       "      <td>26.6</td>\n",
       "      <td>0.351</td>\n",
       "      <td>31</td>\n",
       "    </tr>\n",
       "    <tr>\n",
       "      <th>2</th>\n",
       "      <td>8</td>\n",
       "      <td>183</td>\n",
       "      <td>64</td>\n",
       "      <td>0</td>\n",
       "      <td>0</td>\n",
       "      <td>23.3</td>\n",
       "      <td>0.672</td>\n",
       "      <td>32</td>\n",
       "    </tr>\n",
       "    <tr>\n",
       "      <th>3</th>\n",
       "      <td>1</td>\n",
       "      <td>89</td>\n",
       "      <td>66</td>\n",
       "      <td>23</td>\n",
       "      <td>94</td>\n",
       "      <td>28.1</td>\n",
       "      <td>0.167</td>\n",
       "      <td>21</td>\n",
       "    </tr>\n",
       "    <tr>\n",
       "      <th>4</th>\n",
       "      <td>0</td>\n",
       "      <td>137</td>\n",
       "      <td>40</td>\n",
       "      <td>35</td>\n",
       "      <td>168</td>\n",
       "      <td>43.1</td>\n",
       "      <td>2.288</td>\n",
       "      <td>33</td>\n",
       "    </tr>\n",
       "    <tr>\n",
       "      <th>...</th>\n",
       "      <td>...</td>\n",
       "      <td>...</td>\n",
       "      <td>...</td>\n",
       "      <td>...</td>\n",
       "      <td>...</td>\n",
       "      <td>...</td>\n",
       "      <td>...</td>\n",
       "      <td>...</td>\n",
       "    </tr>\n",
       "    <tr>\n",
       "      <th>763</th>\n",
       "      <td>10</td>\n",
       "      <td>101</td>\n",
       "      <td>76</td>\n",
       "      <td>48</td>\n",
       "      <td>180</td>\n",
       "      <td>32.9</td>\n",
       "      <td>0.171</td>\n",
       "      <td>63</td>\n",
       "    </tr>\n",
       "    <tr>\n",
       "      <th>764</th>\n",
       "      <td>2</td>\n",
       "      <td>122</td>\n",
       "      <td>70</td>\n",
       "      <td>27</td>\n",
       "      <td>0</td>\n",
       "      <td>36.8</td>\n",
       "      <td>0.340</td>\n",
       "      <td>27</td>\n",
       "    </tr>\n",
       "    <tr>\n",
       "      <th>765</th>\n",
       "      <td>5</td>\n",
       "      <td>121</td>\n",
       "      <td>72</td>\n",
       "      <td>23</td>\n",
       "      <td>112</td>\n",
       "      <td>26.2</td>\n",
       "      <td>0.245</td>\n",
       "      <td>30</td>\n",
       "    </tr>\n",
       "    <tr>\n",
       "      <th>766</th>\n",
       "      <td>1</td>\n",
       "      <td>126</td>\n",
       "      <td>60</td>\n",
       "      <td>0</td>\n",
       "      <td>0</td>\n",
       "      <td>30.1</td>\n",
       "      <td>0.349</td>\n",
       "      <td>47</td>\n",
       "    </tr>\n",
       "    <tr>\n",
       "      <th>767</th>\n",
       "      <td>1</td>\n",
       "      <td>93</td>\n",
       "      <td>70</td>\n",
       "      <td>31</td>\n",
       "      <td>0</td>\n",
       "      <td>30.4</td>\n",
       "      <td>0.315</td>\n",
       "      <td>23</td>\n",
       "    </tr>\n",
       "  </tbody>\n",
       "</table>\n",
       "<p>768 rows × 8 columns</p>\n",
       "</div>"
      ],
      "text/plain": [
       "     Preg  Glucose  BP  SkinThick  Insul   BMI    DPF  Age\n",
       "0       6      148  72         35      0  33.6  0.627   50\n",
       "1       1       85  66         29      0  26.6  0.351   31\n",
       "2       8      183  64          0      0  23.3  0.672   32\n",
       "3       1       89  66         23     94  28.1  0.167   21\n",
       "4       0      137  40         35    168  43.1  2.288   33\n",
       "..    ...      ...  ..        ...    ...   ...    ...  ...\n",
       "763    10      101  76         48    180  32.9  0.171   63\n",
       "764     2      122  70         27      0  36.8  0.340   27\n",
       "765     5      121  72         23    112  26.2  0.245   30\n",
       "766     1      126  60          0      0  30.1  0.349   47\n",
       "767     1       93  70         31      0  30.4  0.315   23\n",
       "\n",
       "[768 rows x 8 columns]"
      ]
     },
     "execution_count": 5,
     "metadata": {},
     "output_type": "execute_result"
    }
   ],
   "source": [
    "# Set the dependent and independent variables.\n",
    "x = df.drop('Diabetes',axis=1)\n",
    "y = df['Diabetes']\n",
    "x"
   ]
  },
  {
   "cell_type": "code",
   "execution_count": 8,
   "id": "2ea8728a",
   "metadata": {},
   "outputs": [],
   "source": [
    "from sklearn.model_selection import train_test_split\n",
    "#split dataset into train and test data\n",
    "x_train, x_test, y_train, y_test = train_test_split(x, y, test_size=0.2, random_state=1, stratify=y)"
   ]
  },
  {
   "cell_type": "code",
   "execution_count": 9,
   "id": "7d11fcbc",
   "metadata": {},
   "outputs": [
    {
     "data": {
      "text/html": [
       "<style>#sk-container-id-2 {color: black;}#sk-container-id-2 pre{padding: 0;}#sk-container-id-2 div.sk-toggleable {background-color: white;}#sk-container-id-2 label.sk-toggleable__label {cursor: pointer;display: block;width: 100%;margin-bottom: 0;padding: 0.3em;box-sizing: border-box;text-align: center;}#sk-container-id-2 label.sk-toggleable__label-arrow:before {content: \"▸\";float: left;margin-right: 0.25em;color: #696969;}#sk-container-id-2 label.sk-toggleable__label-arrow:hover:before {color: black;}#sk-container-id-2 div.sk-estimator:hover label.sk-toggleable__label-arrow:before {color: black;}#sk-container-id-2 div.sk-toggleable__content {max-height: 0;max-width: 0;overflow: hidden;text-align: left;background-color: #f0f8ff;}#sk-container-id-2 div.sk-toggleable__content pre {margin: 0.2em;color: black;border-radius: 0.25em;background-color: #f0f8ff;}#sk-container-id-2 input.sk-toggleable__control:checked~div.sk-toggleable__content {max-height: 200px;max-width: 100%;overflow: auto;}#sk-container-id-2 input.sk-toggleable__control:checked~label.sk-toggleable__label-arrow:before {content: \"▾\";}#sk-container-id-2 div.sk-estimator input.sk-toggleable__control:checked~label.sk-toggleable__label {background-color: #d4ebff;}#sk-container-id-2 div.sk-label input.sk-toggleable__control:checked~label.sk-toggleable__label {background-color: #d4ebff;}#sk-container-id-2 input.sk-hidden--visually {border: 0;clip: rect(1px 1px 1px 1px);clip: rect(1px, 1px, 1px, 1px);height: 1px;margin: -1px;overflow: hidden;padding: 0;position: absolute;width: 1px;}#sk-container-id-2 div.sk-estimator {font-family: monospace;background-color: #f0f8ff;border: 1px dotted black;border-radius: 0.25em;box-sizing: border-box;margin-bottom: 0.5em;}#sk-container-id-2 div.sk-estimator:hover {background-color: #d4ebff;}#sk-container-id-2 div.sk-parallel-item::after {content: \"\";width: 100%;border-bottom: 1px solid gray;flex-grow: 1;}#sk-container-id-2 div.sk-label:hover label.sk-toggleable__label {background-color: #d4ebff;}#sk-container-id-2 div.sk-serial::before {content: \"\";position: absolute;border-left: 1px solid gray;box-sizing: border-box;top: 0;bottom: 0;left: 50%;z-index: 0;}#sk-container-id-2 div.sk-serial {display: flex;flex-direction: column;align-items: center;background-color: white;padding-right: 0.2em;padding-left: 0.2em;position: relative;}#sk-container-id-2 div.sk-item {position: relative;z-index: 1;}#sk-container-id-2 div.sk-parallel {display: flex;align-items: stretch;justify-content: center;background-color: white;position: relative;}#sk-container-id-2 div.sk-item::before, #sk-container-id-2 div.sk-parallel-item::before {content: \"\";position: absolute;border-left: 1px solid gray;box-sizing: border-box;top: 0;bottom: 0;left: 50%;z-index: -1;}#sk-container-id-2 div.sk-parallel-item {display: flex;flex-direction: column;z-index: 1;position: relative;background-color: white;}#sk-container-id-2 div.sk-parallel-item:first-child::after {align-self: flex-end;width: 50%;}#sk-container-id-2 div.sk-parallel-item:last-child::after {align-self: flex-start;width: 50%;}#sk-container-id-2 div.sk-parallel-item:only-child::after {width: 0;}#sk-container-id-2 div.sk-dashed-wrapped {border: 1px dashed gray;margin: 0 0.4em 0.5em 0.4em;box-sizing: border-box;padding-bottom: 0.4em;background-color: white;}#sk-container-id-2 div.sk-label label {font-family: monospace;font-weight: bold;display: inline-block;line-height: 1.2em;}#sk-container-id-2 div.sk-label-container {text-align: center;}#sk-container-id-2 div.sk-container {/* jupyter's `normalize.less` sets `[hidden] { display: none; }` but bootstrap.min.css set `[hidden] { display: none !important; }` so we also need the `!important` here to be able to override the default hidden behavior on the sphinx rendered scikit-learn.org. See: https://github.com/scikit-learn/scikit-learn/issues/21755 */display: inline-block !important;position: relative;}#sk-container-id-2 div.sk-text-repr-fallback {display: none;}</style><div id=\"sk-container-id-2\" class=\"sk-top-container\"><div class=\"sk-text-repr-fallback\"><pre>LogisticRegression(max_iter=1000, penalty=None)</pre><b>In a Jupyter environment, please rerun this cell to show the HTML representation or trust the notebook. <br />On GitHub, the HTML representation is unable to render, please try loading this page with nbviewer.org.</b></div><div class=\"sk-container\" hidden><div class=\"sk-item\"><div class=\"sk-estimator sk-toggleable\"><input class=\"sk-toggleable__control sk-hidden--visually\" id=\"sk-estimator-id-2\" type=\"checkbox\" checked><label for=\"sk-estimator-id-2\" class=\"sk-toggleable__label sk-toggleable__label-arrow\">LogisticRegression</label><div class=\"sk-toggleable__content\"><pre>LogisticRegression(max_iter=1000, penalty=None)</pre></div></div></div></div></div>"
      ],
      "text/plain": [
       "LogisticRegression(max_iter=1000, penalty=None)"
      ]
     },
     "execution_count": 9,
     "metadata": {},
     "output_type": "execute_result"
    }
   ],
   "source": [
    "from sklearn.linear_model import LogisticRegression\n",
    "# Create Logistic Regression classifier\n",
    "logmodel = LogisticRegression(max_iter=1000,penalty=None)\n",
    "# Fit the classifier to the data\n",
    "logmodel.fit(x_train,y_train)"
   ]
  },
  {
   "cell_type": "code",
   "execution_count": 10,
   "id": "9ff7cad3",
   "metadata": {},
   "outputs": [
    {
     "data": {
      "text/plain": [
       "array([0, 0, 0, 0, 0, 0, 0, 0, 1, 0, 0, 0, 1, 0, 0, 0, 0, 1, 0, 1, 1, 0,\n",
       "       0, 0, 0, 0, 0, 0, 0, 0, 0, 0, 0, 0, 1, 1, 0, 1, 0, 0, 0, 1, 0, 0,\n",
       "       0, 0, 0, 0, 1, 1, 0, 0, 1, 0, 0, 0, 0, 0, 1, 1, 0, 0, 0, 0, 1, 0,\n",
       "       0, 1, 0, 0, 1, 0, 0, 0, 0, 0, 1, 0, 0, 0, 0, 0, 0, 0, 0, 1, 0, 0,\n",
       "       1, 0, 1, 0, 0, 0, 0, 0, 0, 0, 1, 0, 0, 0, 0, 1, 0, 0, 1, 0, 0, 1,\n",
       "       0, 0, 0, 0, 1, 1, 0, 0, 1, 1, 0, 0, 0, 0, 0, 1, 0, 0, 1, 1, 1, 0,\n",
       "       0, 0, 0, 0, 1, 0, 0, 1, 0, 0, 0, 0, 0, 0, 0, 0, 0, 0, 1, 0, 1, 0],\n",
       "      dtype=int64)"
      ]
     },
     "execution_count": 10,
     "metadata": {},
     "output_type": "execute_result"
    }
   ],
   "source": [
    "# Make prediction using test data\n",
    "y_pred = logmodel.predict(x_test)\n",
    "y_pred"
   ]
  },
  {
   "cell_type": "code",
   "execution_count": 11,
   "id": "2c756389",
   "metadata": {},
   "outputs": [
    {
     "data": {
      "text/plain": [
       "array([0, 0, 0, 0, 0, 0, 0, 0, 1, 0, 0, 0, 1, 0, 0, 0, 0, 1, 0, 1, 1, 0,\n",
       "       0, 0, 1, 1, 1, 0, 0, 0, 1, 0, 1, 0, 1, 1, 1, 1, 0, 0, 0, 1, 0, 1,\n",
       "       0, 0, 1, 0, 1, 1, 0, 1, 0, 1, 0, 1, 0, 0, 1, 0, 0, 0, 0, 0, 0, 0,\n",
       "       0, 1, 0, 1, 1, 0, 1, 1, 0, 1, 1, 1, 1, 0, 1, 0, 0, 0, 1, 1, 0, 0,\n",
       "       1, 0, 1, 0, 0, 0, 0, 1, 0, 0, 0, 0, 0, 0, 0, 0, 0, 0, 1, 0, 0, 1,\n",
       "       0, 1, 0, 1, 0, 1, 0, 0, 1, 1, 0, 0, 0, 0, 0, 1, 0, 0, 1, 0, 1, 0,\n",
       "       0, 0, 0, 0, 1, 0, 0, 1, 0, 0, 1, 0, 0, 1, 0, 1, 0, 0, 0, 0, 1, 0],\n",
       "      dtype=int64)"
      ]
     },
     "execution_count": 11,
     "metadata": {},
     "output_type": "execute_result"
    }
   ],
   "source": [
    "np.array(y_test)"
   ]
  },
  {
   "cell_type": "code",
   "execution_count": 14,
   "id": "c213d29f",
   "metadata": {},
   "outputs": [
    {
     "name": "stdout",
     "output_type": "stream",
     "text": [
      "Test score: 0.7857142857142857\n",
      "Train score: 0.7866449511400652\n"
     ]
    }
   ],
   "source": [
    "# Use score method to get test accuracy of model\n",
    "score_test = logmodel.score(x_test, y_test)\n",
    "score_train = logmodel.score(x_train, y_train)\n",
    "print(\"Test score:\", score_test)\n",
    "print(\"Train score:\", score_train)"
   ]
  },
  {
   "cell_type": "code",
   "execution_count": null,
   "id": "947a8eea",
   "metadata": {},
   "outputs": [],
   "source": [
    "# Find coefficients\n",
    "Model_intercept = pd.DataFrame({\"Variables\":'Intercept',\"Coefficients\":logmodel.intercept_[0]},index=[0])\n",
    "Model_coefficients = pd.DataFrame({\"Variables\":x.columns,\"Coefficients\":np.transpose(logmodel.coef_[0])})\n",
    "Model_coefficients = pd.concat([Model_intercept,Model_coefficients]).reset_index(drop=True)\n",
    "print(Model_coefficients)"
   ]
  },
  {
   "cell_type": "code",
   "execution_count": 15,
   "id": "3d635926",
   "metadata": {},
   "outputs": [
    {
     "data": {
      "text/plain": [
       "array([[92,  8],\n",
       "       [25, 29]], dtype=int64)"
      ]
     },
     "execution_count": 15,
     "metadata": {},
     "output_type": "execute_result"
    }
   ],
   "source": [
    "# import the metrics class\n",
    "from sklearn.metrics import confusion_matrix\n",
    "cnf_matrix = confusion_matrix(y_test, y_pred)\n",
    "cnf_matrix"
   ]
  },
  {
   "cell_type": "code",
   "execution_count": 29,
   "id": "acc4d669",
   "metadata": {},
   "outputs": [],
   "source": [
    "# Make confusion matrix look better via using Seaborn's heatmap()\n",
    "\n",
    "def plot_conf_mat(y_test, y_preds):\n",
    "    \"\"\"\n",
    "    Plots a nice looking confusion matrix using Seaborn's heatmap()\n",
    "    \"\"\"\n",
    "    sns.set(font_scale=2)\n",
    "    fig, ax = plt.subplots(figsize=(4, 4))\n",
    "    ax = sns.heatmap(confusion_matrix(y_test, y_preds),\n",
    "                     annot=True,\n",
    "                     cbar=False)\n",
    "    plt.xlabel(\"Predicted label\")\n",
    "    plt.ylabel(\"True label\")\n",
    "\n",
    "    bottom, top = ax.get_ylim()\n",
    "    ax.set_ylim(bottom + 0.5, top - 0.5)"
   ]
  },
  {
   "cell_type": "code",
   "execution_count": 30,
   "id": "71bf97e5",
   "metadata": {},
   "outputs": [
    {
     "data": {
      "image/png": "[encoded data removed]",
      "text/plain": [
       "<Figure size 400x400 with 1 Axes>"
      ]
     },
     "metadata": {},
     "output_type": "display_data"
    }
   ],
   "source": [
    "plot_conf_mat(y_test, y_pred)"
   ]
  },
  {
   "cell_type": "code",
   "execution_count": 32,
   "id": "9ca50d38",
   "metadata": {},
   "outputs": [
    {
     "name": "stdout",
     "output_type": "stream",
     "text": [
      "Accuracy: 0.7857142857142857\n",
      "Precision: 0.7837837837837838\n",
      "Recall: 0.5370370370370371\n",
      "F1 Score: 0.6373626373626374\n"
     ]
    }
   ],
   "source": [
    "from sklearn import metrics\n",
    "print(\"Accuracy:\",metrics.accuracy_score(y_test, y_pred))\n",
    "print(\"Precision:\",metrics.precision_score(y_test, y_pred))\n",
    "print(\"Recall:\",metrics.recall_score(y_test, y_pred))\n",
    "print(\"F1 Score:\", metrics.f1_score(y_test, y_pred))"
   ]
  },
  {
   "cell_type": "code",
   "execution_count": 33,
   "id": "8dce14da",
   "metadata": {},
   "outputs": [
    {
     "data": {
      "text/plain": [
       "array([[0.92769555, 0.07230445],\n",
       "       [0.83538694, 0.16461306],\n",
       "       [0.95828422, 0.04171578],\n",
       "       [0.54311608, 0.45688392],\n",
       "       [0.71159015, 0.28840985],\n",
       "       [0.7772588 , 0.2227412 ],\n",
       "       [0.97055999, 0.02944001],\n",
       "       [0.90452431, 0.09547569],\n",
       "       [0.22058027, 0.77941973],\n",
       "       [0.95222318, 0.04777682],\n",
       "       [0.78430385, 0.21569615],\n",
       "       [0.94749354, 0.05250646],\n",
       "       [0.24129255, 0.75870745],\n",
       "       [0.97123858, 0.02876142],\n",
       "       [0.95217885, 0.04782115],\n",
       "       [0.71307257, 0.28692743],\n",
       "       [0.72999027, 0.27000973],\n",
       "       [0.47855954, 0.52144046],\n",
       "       [0.8553528 , 0.1446472 ],\n",
       "       [0.30068379, 0.69931621],\n",
       "       [0.24521583, 0.75478417],\n",
       "       [0.91611024, 0.08388976],\n",
       "       [0.5684742 , 0.4315258 ],\n",
       "       [0.97140884, 0.02859116],\n",
       "       [0.76957917, 0.23042083],\n",
       "       [0.82665355, 0.17334645],\n",
       "       [0.522105  , 0.477895  ],\n",
       "       [0.91609523, 0.08390477],\n",
       "       [0.95269266, 0.04730734],\n",
       "       [0.93620723, 0.06379277],\n",
       "       [0.93889337, 0.06110663],\n",
       "       [0.9968138 , 0.0031862 ],\n",
       "       [0.97402324, 0.02597676],\n",
       "       [0.7675671 , 0.2324329 ],\n",
       "       [0.30011661, 0.69988339],\n",
       "       [0.13137926, 0.86862074],\n",
       "       [0.83159936, 0.16840064],\n",
       "       [0.13677992, 0.86322008],\n",
       "       [0.81969877, 0.18030123],\n",
       "       [0.85499637, 0.14500363],\n",
       "       [0.91088254, 0.08911746],\n",
       "       [0.12652558, 0.87347442],\n",
       "       [0.86092162, 0.13907838],\n",
       "       [0.53393814, 0.46606186],\n",
       "       [0.75486793, 0.24513207],\n",
       "       [0.77191381, 0.22808619],\n",
       "       [0.76377193, 0.23622807],\n",
       "       [0.88132868, 0.11867132],\n",
       "       [0.47943741, 0.52056259],\n",
       "       [0.07518463, 0.92481537],\n",
       "       [0.96144413, 0.03855587],\n",
       "       [0.80806865, 0.19193135],\n",
       "       [0.350812  , 0.649188  ],\n",
       "       [0.60230798, 0.39769202],\n",
       "       [0.77849146, 0.22150854],\n",
       "       [0.70570606, 0.29429394],\n",
       "       [0.8435726 , 0.1564274 ],\n",
       "       [0.96824949, 0.03175051],\n",
       "       [0.33825386, 0.66174614],\n",
       "       [0.29563462, 0.70436538],\n",
       "       [0.94103579, 0.05896421],\n",
       "       [0.75535192, 0.24464808],\n",
       "       [0.97043133, 0.02956867],\n",
       "       [0.91317893, 0.08682107],\n",
       "       [0.01823956, 0.98176044],\n",
       "       [0.89901477, 0.10098523],\n",
       "       [0.99827052, 0.00172948],\n",
       "       [0.18656613, 0.81343387],\n",
       "       [0.96472569, 0.03527431],\n",
       "       [0.60007905, 0.39992095],\n",
       "       [0.3696957 , 0.6303043 ],\n",
       "       [0.95739458, 0.04260542],\n",
       "       [0.61594467, 0.38405533],\n",
       "       [0.59064616, 0.40935384],\n",
       "       [0.50109111, 0.49890889],\n",
       "       [0.79034089, 0.20965911],\n",
       "       [0.26556406, 0.73443594],\n",
       "       [0.53130245, 0.46869755],\n",
       "       [0.68220379, 0.31779621],\n",
       "       [0.51233431, 0.48766569],\n",
       "       [0.67133453, 0.32866547],\n",
       "       [0.55951399, 0.44048601],\n",
       "       [0.52994523, 0.47005477],\n",
       "       [0.52727283, 0.47272717],\n",
       "       [0.66402083, 0.33597917],\n",
       "       [0.38426478, 0.61573522],\n",
       "       [0.77623992, 0.22376008],\n",
       "       [0.6601423 , 0.3398577 ],\n",
       "       [0.11437403, 0.88562597],\n",
       "       [0.75071705, 0.24928295],\n",
       "       [0.30742448, 0.69257552],\n",
       "       [0.89346524, 0.10653476],\n",
       "       [0.75736955, 0.24263045],\n",
       "       [0.63487496, 0.36512504],\n",
       "       [0.79850458, 0.20149542],\n",
       "       [0.77454706, 0.22545294],\n",
       "       [0.89682882, 0.10317118],\n",
       "       [0.98605091, 0.01394909],\n",
       "       [0.33875165, 0.66124835],\n",
       "       [0.59840869, 0.40159131],\n",
       "       [0.76137985, 0.23862015],\n",
       "       [0.93183024, 0.06816976],\n",
       "       [0.61233893, 0.38766107],\n",
       "       [0.05699022, 0.94300978],\n",
       "       [0.68956297, 0.31043703],\n",
       "       [0.55706994, 0.44293006],\n",
       "       [0.31330188, 0.68669812],\n",
       "       [0.89026386, 0.10973614],\n",
       "       [0.88826719, 0.11173281],\n",
       "       [0.03796513, 0.96203487],\n",
       "       [0.61156586, 0.38843414],\n",
       "       [0.91416333, 0.08583667],\n",
       "       [0.89856978, 0.10143022],\n",
       "       [0.60073099, 0.39926901],\n",
       "       [0.27633496, 0.72366504],\n",
       "       [0.14957224, 0.85042776],\n",
       "       [0.58946079, 0.41053921],\n",
       "       [0.90382593, 0.09617407],\n",
       "       [0.08573303, 0.91426697],\n",
       "       [0.23880627, 0.76119373],\n",
       "       [0.73819604, 0.26180396],\n",
       "       [0.99159927, 0.00840073],\n",
       "       [0.92316372, 0.07683628],\n",
       "       [0.71932712, 0.28067288],\n",
       "       [0.8455291 , 0.1544709 ],\n",
       "       [0.3494856 , 0.6505144 ],\n",
       "       [0.8934367 , 0.1065633 ],\n",
       "       [0.93279701, 0.06720299],\n",
       "       [0.4335008 , 0.5664992 ],\n",
       "       [0.3547994 , 0.6452006 ],\n",
       "       [0.24014325, 0.75985675],\n",
       "       [0.88611834, 0.11388166],\n",
       "       [0.93116184, 0.06883816],\n",
       "       [0.80254555, 0.19745445],\n",
       "       [0.93600487, 0.06399513],\n",
       "       [0.74244648, 0.25755352],\n",
       "       [0.38092094, 0.61907906],\n",
       "       [0.80821319, 0.19178681],\n",
       "       [0.90026114, 0.09973886],\n",
       "       [0.40677203, 0.59322797],\n",
       "       [0.97310602, 0.02689398],\n",
       "       [0.86013868, 0.13986132],\n",
       "       [0.87664909, 0.12335091],\n",
       "       [0.91712603, 0.08287397],\n",
       "       [0.67541055, 0.32458945],\n",
       "       [0.84280396, 0.15719604],\n",
       "       [0.9535871 , 0.0464129 ],\n",
       "       [0.64274818, 0.35725182],\n",
       "       [0.61284039, 0.38715961],\n",
       "       [0.82363729, 0.17636271],\n",
       "       [0.24748547, 0.75251453],\n",
       "       [0.90576633, 0.09423367],\n",
       "       [0.44765021, 0.55234979],\n",
       "       [0.95074277, 0.04925723]])"
      ]
     },
     "execution_count": 33,
     "metadata": {},
     "output_type": "execute_result"
    }
   ],
   "source": [
    "logmodel.predict_proba(x_test)"
   ]
  },
  {
   "cell_type": "code",
   "execution_count": 34,
   "id": "c586c66c",
   "metadata": {},
   "outputs": [
    {
     "data": {
      "text/plain": [
       "array([0.07230445, 0.16461306, 0.04171578, 0.45688392, 0.28840985,\n",
       "       0.2227412 , 0.02944001, 0.09547569, 0.77941973, 0.04777682,\n",
       "       0.21569615, 0.05250646, 0.75870745, 0.02876142, 0.04782115,\n",
       "       0.28692743, 0.27000973, 0.52144046, 0.1446472 , 0.69931621,\n",
       "       0.75478417, 0.08388976, 0.4315258 , 0.02859116, 0.23042083,\n",
       "       0.17334645, 0.477895  , 0.08390477, 0.04730734, 0.06379277,\n",
       "       0.06110663, 0.0031862 , 0.02597676, 0.2324329 , 0.69988339,\n",
       "       0.86862074, 0.16840064, 0.86322008, 0.18030123, 0.14500363,\n",
       "       0.08911746, 0.87347442, 0.13907838, 0.46606186, 0.24513207,\n",
       "       0.22808619, 0.23622807, 0.11867132, 0.52056259, 0.92481537,\n",
       "       0.03855587, 0.19193135, 0.649188  , 0.39769202, 0.22150854,\n",
       "       0.29429394, 0.1564274 , 0.03175051, 0.66174614, 0.70436538,\n",
       "       0.05896421, 0.24464808, 0.02956867, 0.08682107, 0.98176044,\n",
       "       0.10098523, 0.00172948, 0.81343387, 0.03527431, 0.39992095,\n",
       "       0.6303043 , 0.04260542, 0.38405533, 0.40935384, 0.49890889,\n",
       "       0.20965911, 0.73443594, 0.46869755, 0.31779621, 0.48766569,\n",
       "       0.32866547, 0.44048601, 0.47005477, 0.47272717, 0.33597917,\n",
       "       0.61573522, 0.22376008, 0.3398577 , 0.88562597, 0.24928295,\n",
       "       0.69257552, 0.10653476, 0.24263045, 0.36512504, 0.20149542,\n",
       "       0.22545294, 0.10317118, 0.01394909, 0.66124835, 0.40159131,\n",
       "       0.23862015, 0.06816976, 0.38766107, 0.94300978, 0.31043703,\n",
       "       0.44293006, 0.68669812, 0.10973614, 0.11173281, 0.96203487,\n",
       "       0.38843414, 0.08583667, 0.10143022, 0.39926901, 0.72366504,\n",
       "       0.85042776, 0.41053921, 0.09617407, 0.91426697, 0.76119373,\n",
       "       0.26180396, 0.00840073, 0.07683628, 0.28067288, 0.1544709 ,\n",
       "       0.6505144 , 0.1065633 , 0.06720299, 0.5664992 , 0.6452006 ,\n",
       "       0.75985675, 0.11388166, 0.06883816, 0.19745445, 0.06399513,\n",
       "       0.25755352, 0.61907906, 0.19178681, 0.09973886, 0.59322797,\n",
       "       0.02689398, 0.13986132, 0.12335091, 0.08287397, 0.32458945,\n",
       "       0.15719604, 0.0464129 , 0.35725182, 0.38715961, 0.17636271,\n",
       "       0.75251453, 0.09423367, 0.55234979, 0.04925723])"
      ]
     },
     "execution_count": 34,
     "metadata": {},
     "output_type": "execute_result"
    }
   ],
   "source": [
    "y_pred_proba = logmodel.predict_proba(x_test)[::,1]\n",
    "y_pred_proba"
   ]
  },
  {
   "cell_type": "code",
   "execution_count": 35,
   "id": "29be363a",
   "metadata": {},
   "outputs": [
    {
     "data": {
      "text/plain": [
       "array([0., 0., 0., 1., 1., 1., 0., 0., 1., 0., 1., 0., 1., 0., 0., 1., 1.,\n",
       "       1., 0., 1., 1., 0., 1., 0., 1., 0., 1., 0., 0., 0., 0., 0., 0., 1.,\n",
       "       1., 1., 0., 1., 0., 0., 0., 1., 0., 1., 1., 1., 1., 0., 1., 1., 0.,\n",
       "       0., 1., 1., 1., 1., 0., 0., 1., 1., 0., 1., 0., 0., 1., 0., 0., 1.,\n",
       "       0., 1., 1., 0., 1., 1., 1., 1., 1., 1., 1., 1., 1., 1., 1., 1., 1.,\n",
       "       1., 1., 1., 1., 1., 1., 0., 1., 1., 1., 1., 0., 0., 1., 1., 1., 0.,\n",
       "       1., 1., 1., 1., 1., 0., 0., 1., 1., 0., 0., 1., 1., 1., 1., 0., 1.,\n",
       "       1., 1., 0., 0., 1., 0., 1., 0., 0., 1., 1., 1., 0., 0., 0., 0., 1.,\n",
       "       1., 0., 0., 1., 0., 0., 0., 0., 1., 0., 0., 1., 1., 0., 1., 0., 1.,\n",
       "       0.])"
      ]
     },
     "execution_count": 35,
     "metadata": {},
     "output_type": "execute_result"
    }
   ],
   "source": [
    "threshold = 0.2\n",
    "y_pred = (y_pred_proba > threshold).astype('float')\n",
    "y_pred"
   ]
  },
  {
   "cell_type": "code",
   "execution_count": 36,
   "id": "8abbb7dc",
   "metadata": {},
   "outputs": [
    {
     "data": {
      "text/plain": [
       "array([0, 0, 0, 0, 0, 0, 0, 0, 1, 0, 0, 0, 1, 0, 0, 0, 0, 1, 0, 1, 1, 0,\n",
       "       0, 0, 1, 1, 1, 0, 0, 0, 1, 0, 1, 0, 1, 1, 1, 1, 0, 0, 0, 1, 0, 1,\n",
       "       0, 0, 1, 0, 1, 1, 0, 1, 0, 1, 0, 1, 0, 0, 1, 0, 0, 0, 0, 0, 0, 0,\n",
       "       0, 1, 0, 1, 1, 0, 1, 1, 0, 1, 1, 1, 1, 0, 1, 0, 0, 0, 1, 1, 0, 0,\n",
       "       1, 0, 1, 0, 0, 0, 0, 1, 0, 0, 0, 0, 0, 0, 0, 0, 0, 0, 1, 0, 0, 1,\n",
       "       0, 1, 0, 1, 0, 1, 0, 0, 1, 1, 0, 0, 0, 0, 0, 1, 0, 0, 1, 0, 1, 0,\n",
       "       0, 0, 0, 0, 1, 0, 0, 1, 0, 0, 1, 0, 0, 1, 0, 1, 0, 0, 0, 0, 1, 0],\n",
       "      dtype=int64)"
      ]
     },
     "execution_count": 36,
     "metadata": {},
     "output_type": "execute_result"
    }
   ],
   "source": [
    "np.array(y_test)"
   ]
  },
  {
   "cell_type": "code",
   "execution_count": 37,
   "id": "69c047b9",
   "metadata": {},
   "outputs": [
    {
     "data": {
      "image/png": "[encoded data removed]",
      "text/plain": [
       "<Figure size 400x400 with 1 Axes>"
      ]
     },
     "metadata": {},
     "output_type": "display_data"
    }
   ],
   "source": [
    "plot_conf_mat(y_test, y_pred)"
   ]
  },
  {
   "cell_type": "code",
   "execution_count": 38,
   "id": "2d2049d0",
   "metadata": {},
   "outputs": [
    {
     "name": "stdout",
     "output_type": "stream",
     "text": [
      "Accuracy: 0.6688311688311688\n",
      "Precision: 0.5168539325842697\n",
      "Recall: 0.8518518518518519\n",
      "F1 Score: 0.6433566433566433\n"
     ]
    }
   ],
   "source": [
    "from sklearn import metrics\n",
    "print(\"Accuracy:\",metrics.accuracy_score(y_test, y_pred))\n",
    "print(\"Precision:\",metrics.precision_score(y_test, y_pred))\n",
    "print(\"Recall:\",metrics.recall_score(y_test, y_pred))\n",
    "print(\"F1 Score:\", metrics.f1_score(y_test, y_pred))"
   ]
  },
  {
   "cell_type": "code",
   "execution_count": 51,
   "id": "0662aaf9",
   "metadata": {},
   "outputs": [
    {
     "data": {
      "image/png": "[encoded data removed]",
      "text/plain": [
       "<Figure size 400x400 with 1 Axes>"
      ]
     },
     "metadata": {},
     "output_type": "display_data"
    }
   ],
   "source": [
    "threshold = 0.3\n",
    "y_pred = (y_pred_proba > threshold).astype('float')\n",
    "plot_conf_mat(y_test, y_pred)"
   ]
  },
  {
   "cell_type": "code",
   "execution_count": 52,
   "id": "1718f793",
   "metadata": {},
   "outputs": [
    {
     "name": "stdout",
     "output_type": "stream",
     "text": [
      "Accuracy: 0.7532467532467533\n",
      "Precision: 0.6212121212121212\n",
      "Recall: 0.7592592592592593\n",
      "F1 Score: 0.6833333333333333\n"
     ]
    }
   ],
   "source": [
    "from sklearn import metrics\n",
    "print(\"Accuracy:\",metrics.accuracy_score(y_test, y_pred))\n",
    "print(\"Precision:\",metrics.precision_score(y_test, y_pred))\n",
    "print(\"Recall:\",metrics.recall_score(y_test, y_pred))\n",
    "print(\"F1 Score:\", metrics.f1_score(y_test, y_pred))"
   ]
  },
  {
   "cell_type": "code",
   "execution_count": 56,
   "id": "d5103c94",
   "metadata": {},
   "outputs": [
    {
     "data": {
      "image/png": "[encoded data removed]",
      "text/plain": [
       "<Figure size 400x400 with 1 Axes>"
      ]
     },
     "metadata": {},
     "output_type": "display_data"
    }
   ],
   "source": [
    "threshold = 0.1\n",
    "y_pred = (y_pred_proba > threshold).astype('float')\n",
    "plot_conf_mat(y_test, y_pred)"
   ]
  },
  {
   "cell_type": "code",
   "execution_count": 57,
   "id": "5a4da292",
   "metadata": {},
   "outputs": [
    {
     "name": "stdout",
     "output_type": "stream",
     "text": [
      "Accuracy: 0.5714285714285714\n",
      "Precision: 0.4473684210526316\n",
      "Recall: 0.9444444444444444\n",
      "F1 Score: 0.6071428571428572\n"
     ]
    }
   ],
   "source": [
    "from sklearn import metrics\n",
    "print(\"Accuracy:\",metrics.accuracy_score(y_test, y_pred))\n",
    "print(\"Precision:\",metrics.precision_score(y_test, y_pred))\n",
    "print(\"Recall:\",metrics.recall_score(y_test, y_pred))\n",
    "print(\"F1 Score:\", metrics.f1_score(y_test, y_pred))"
   ]
  },
  {
   "cell_type": "code",
   "execution_count": 73,
   "id": "f6935688",
   "metadata": {},
   "outputs": [
    {
     "name": "stdout",
     "output_type": "stream",
     "text": [
      "**Recall** at Best Threshold: 0.9259259259259259\n",
      "Best Threshold: 0.15\n",
      "Accuracy at Best Threshold: 0.6493506493506493\n",
      "Precision at Best Threshold: 0.5\n",
      "F1 Score: 0.6493506493506493\n"
     ]
    },
    {
     "name": "stderr",
     "output_type": "stream",
     "text": [
      "C:\\Users\\uurty\\AppData\\Local\\anaconda3\\Lib\\site-packages\\sklearn\\metrics\\_classification.py:1469: UndefinedMetricWarning: Precision is ill-defined and being set to 0.0 due to no predicted samples. Use `zero_division` parameter to control this behavior.\n",
      "  _warn_prf(average, modifier, msg_start, len(result))\n"
     ]
    },
    {
     "data": {
      "image/png": "[encoded data removed]",
      "text/plain": [
       "<Figure size 400x400 with 1 Axes>"
      ]
     },
     "metadata": {},
     "output_type": "display_data"
    }
   ],
   "source": [
    "# Initialize variables to track the best threshold and best recall\n",
    "best_threshold = 0\n",
    "best_recall = 0\n",
    "\n",
    "# Minimum accuracy and precision constraints\n",
    "min_accuracy = 0.5\n",
    "min_precision = 0.5\n",
    "\n",
    "# Iterate over a range of thresholds\n",
    "for threshold in np.arange(0.0, 1.0, 0.01):\n",
    "    y_pred = (y_pred_proba > threshold).astype('float')\n",
    "    accuracy = metrics.accuracy_score(y_test, y_pred)\n",
    "    precision = metrics.precision_score(y_test, y_pred)\n",
    "    recall = metrics.recall_score(y_test, y_pred)\n",
    "    \n",
    "    # Check if accuracy and precision meet the minimum constraints\n",
    "    if accuracy >= min_accuracy and precision >= min_precision:\n",
    "        if recall > best_recall:\n",
    "            best_recall = recall\n",
    "            best_threshold = threshold\n",
    "\n",
    "# Use the best threshold to make final predictions\n",
    "y_pred = (y_pred_proba > best_threshold).astype('float')\n",
    "\n",
    "# Output the results\n",
    "print(f\"Recall at Best Threshold: {metrics.recall_score(y_test, y_pred)}\")\n",
    "print(f\"Best Threshold: {best_threshold}\")\n",
    "print(f\"Accuracy at Best Threshold: {metrics.accuracy_score(y_test, y_pred)}\")\n",
    "print(f\"Precision at Best Threshold: {metrics.precision_score(y_test, y_pred)}\")\n",
    "print(\"F1 Score:\", metrics.f1_score(y_test, y_pred))\n",
    "plot_conf_mat(y_test, y_pred)"
   ]
  },
  {
   "cell_type": "markdown",
   "id": "d25a15b8",
   "metadata": {},
   "source": [
    "In this example, recall is maximised. This is because this model works as a pre-test for diabetic patients. The model aims to find all diabetics. But the precision is only 0.5.  This means that half of our predictions of diabetics are not diabetics. We can deny this because this model will work as a pre-test. There will be more detailed tests for diabetics."
   ]
  }
 ],
 "metadata": {
  "kernelspec": {
   "display_name": "Python 3 (ipykernel)",
   "language": "python",
   "name": "python3"
  },
  "language_info": {
   "codemirror_mode": {
    "name": "ipython",
    "version": 3
   },
   "file_extension": ".py",
   "mimetype": "text/x-python",
   "name": "python",
   "nbconvert_exporter": "python",
   "pygments_lexer": "ipython3",
   "version": "3.11.5"
  }
 },
 "nbformat": 4,
 "nbformat_minor": 5
}
